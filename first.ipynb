{
 "cells": [
  {
   "cell_type": "code",
   "execution_count": 3,
   "id": "4d8e7509-e6ee-425d-8dbc-0246f35b9f40",
   "metadata": {},
   "outputs": [],
   "source": [
    "import ee\n",
    "ee.Authenticate()  \n",
    "ee.Initialize()"
   ]
  },
  {
   "cell_type": "markdown",
   "id": "6372fa16-0d40-4fe6-8646-e3993bebbbdc",
   "metadata": {},
   "source": [
    "# Taking data"
   ]
  },
  {
   "cell_type": "code",
   "execution_count": 6,
   "id": "319d9fe1-ee51-4582-bd82-bcbcf7a00ee1",
   "metadata": {},
   "outputs": [
    {
     "data": {
      "text/html": [
       "\n",
       "            <style>\n",
       "                .geemap-dark {\n",
       "                    --jp-widgets-color: white;\n",
       "                    --jp-widgets-label-color: white;\n",
       "                    --jp-ui-font-color1: white;\n",
       "                    --jp-layout-color2: #454545;\n",
       "                    background-color: #383838;\n",
       "                }\n",
       "\n",
       "                .geemap-dark .jupyter-button {\n",
       "                    --jp-layout-color3: #383838;\n",
       "                }\n",
       "\n",
       "                .geemap-colab {\n",
       "                    background-color: var(--colab-primary-surface-color, white);\n",
       "                }\n",
       "\n",
       "                .geemap-colab .jupyter-button {\n",
       "                    --jp-layout-color3: var(--colab-primary-surface-color, white);\n",
       "                }\n",
       "            </style>\n",
       "            "
      ],
      "text/plain": [
       "<IPython.core.display.HTML object>"
      ]
     },
     "metadata": {},
     "output_type": "display_data"
    }
   ],
   "source": [
    "import geemap \n",
    "\n",
    "def process_indices(roi_bounds, start_date, end_date, drive_folder='LandslideData'):\n",
    "    # Define ROI (geometry from bounds)\n",
    "    roi = ee.Geometry.Rectangle(roi_bounds)  # e.g., [-122.0, 37.0, -121.0, 38.0]\n",
    "\n",
    "    # Step 2.1: Fetch Landsat 8/9 Surface Reflectance (pre-atmospherically corrected, NASA/USGS data)\n",
    "    landsat = (ee.ImageCollection('LANDSAT/LC08/C02/T1_L2')  # Or LC09 for Landsat 9\n",
    "               .filterDate(start_date, end_date)\n",
    "               .filterBounds(roi)\n",
    "               .filter(ee.Filter.lt('CLOUD_COVER', 20))  # Basic cloud filter\n",
    "               .median())  # Median composite for cloud-free mosaic\n",
    "\n",
    "    # Step 2.2: Cloud Masking (more precise)\n",
    "    def mask_clouds(image):\n",
    "        qa = image.select('QA_PIXEL')\n",
    "        cloud_bit_mask = 1 << 3  # Cloud bit\n",
    "        cirrus_bit_mask = 1 << 2  # Cirrus bit\n",
    "        mask = qa.bitwiseAnd(cloud_bit_mask).eq(0).And(qa.bitwiseAnd(cirrus_bit_mask).eq(0))\n",
    "        return image.updateMask(mask).divide(10000)  # Scale SR to 0-1 reflectance\n",
    "    landsat = landsat.map(mask_clouds)\n",
    "\n",
    "    # Select bands (Landsat 8: B2=blue, B3=green, B4=red, B5=NIR)\n",
    "    optical_bands = landsat.select(['SR_B2', 'SR_B3', 'SR_B4', 'SR_B5'])\n",
    "\n",
    "    # Step 2.3: Compute Indices\n",
    "    # NDVI: (NIR - Red) / (NIR + Red)\n",
    "    ndvi = optical_bands.normalizedDifference(['SR_B5', 'SR_B4']).rename('NDVI')\n",
    "\n",
    "    # NDWI: (Green - NIR) / (Green + NIR) for water/soil moisture\n",
    "    ndwi = optical_bands.normalizedDifference(['SR_B3', 'SR_B5']).rename('NDWI')\n",
    "\n",
    "    # Slope from SRTM DEM (NASA data, 30m res)\n",
    "    dem = ee.Image('USGS/SRTMGL1_003').clip(roi)\n",
    "    slope = ee.Terrain.slope(dem).rename('slope')  # In degrees\n",
    "\n",
    "    # Step 2.4: Optional Change Detection (e.g., NDVI difference for \"before/after\")\n",
    "    # Split dates if needed (e.g., before_end = '2025-01-15')\n",
    "    # before = process up to before_end, after = rest, diff = after.subtract(before)\n",
    "\n",
    "    # Step 2.5: Export to Google Drive (as separate tasks; monitor with ee.batch.Task.list())\n",
    "    task_ndvi = ee.batch.Export.image.toDrive(\n",
    "        image=ndvi.clip(roi),\n",
    "        description=f'ndvi_{start_date.replace(\"-\", \"\")}',\n",
    "        folder=drive_folder,\n",
    "        region=roi,\n",
    "        scale=30,  # Landsat res\n",
    "        crs='EPSG:4326',\n",
    "        maxPixels=1e9,\n",
    "        fileFormat='GeoTIFF'\n",
    "    )\n",
    "    task_ndvi.start()\n",
    "\n",
    "    task_ndwi = ee.batch.Export.image.toDrive(\n",
    "        image=ndwi.clip(roi),\n",
    "        description=f'ndwi_{start_date.replace(\"-\", \"\")}',\n",
    "        folder=drive_folder,\n",
    "        region=roi,\n",
    "        scale=30,\n",
    "        crs='EPSG:4326',\n",
    "        maxPixels=1e9,\n",
    "        fileFormat='GeoTIFF'\n",
    "    )\n",
    "    task_ndwi.start()\n",
    "\n",
    "    task_slope = ee.batch.Export.image.toDrive(\n",
    "        image=slope.clip(roi),\n",
    "        description='slope_static',  # Slope is static, no date filter\n",
    "        folder=drive_folder,\n",
    "        region=roi,\n",
    "        scale=30,\n",
    "        crs='EPSG:4326',\n",
    "        maxPixels=1e9,\n",
    "        fileFormat='GeoTIFF'\n",
    "    )\n",
    "    task_slope.start()\n",
    "\n",
    "    return {'tasks': [task_ndvi.id, task_ndwi.id, task_slope.id]}  # Return task IDs for monitoring"
   ]
  },
  {
   "cell_type": "code",
   "execution_count": null,
   "id": "1eae5b5b-cd5a-4350-a21f-37b340ea9f67",
   "metadata": {},
   "outputs": [],
   "source": []
  }
 ],
 "metadata": {
  "kernelspec": {
   "display_name": "Python 3 (ipykernel)",
   "language": "python",
   "name": "python3"
  },
  "language_info": {
   "codemirror_mode": {
    "name": "ipython",
    "version": 3
   },
   "file_extension": ".py",
   "mimetype": "text/x-python",
   "name": "python",
   "nbconvert_exporter": "python",
   "pygments_lexer": "ipython3",
   "version": "3.12.10"
  }
 },
 "nbformat": 4,
 "nbformat_minor": 5
}
